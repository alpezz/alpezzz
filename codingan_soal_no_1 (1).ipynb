{
  "nbformat": 4,
  "nbformat_minor": 0,
  "metadata": {
    "colab": {
      "provenance": [],
      "history_visible": true
    },
    "kernelspec": {
      "name": "python3",
      "display_name": "Python 3"
    },
    "language_info": {
      "name": "python"
    }
  },
  "cells": [
    {
      "cell_type": "code",
      "source": [
        "password_benar = \"123456\"\n",
        "\n",
        "percobaan = 0\n",
        "maks_percobaan = 3\n",
        "\n",
        "while percobaan < maks_percobaan:\n",
        "  password = input(\"masukkan password: \")\n",
        "\n",
        "  if password == password_benar:\n",
        "    print(\"pasword benar, selamat datang! \")\n",
        "    break\n",
        "  else:\n",
        "    percobaan += 1\n",
        "    kesalahan = maks_percobaan - percobaan\n",
        "    print(\"password salah\")\n",
        "\n",
        "  if percobaan == maks_percobaan:\n",
        "    print(\"anda telah melebihi batas percobaan, akses di tolak.\")"
      ],
      "metadata": {
        "colab": {
          "base_uri": "https://localhost:8080/"
        },
        "id": "ILWAns66LXvB",
        "outputId": "6fe78cd6-b7ab-44f9-a74f-a44fc6f65779"
      },
      "execution_count": 2,
      "outputs": [
        {
          "output_type": "stream",
          "name": "stdout",
          "text": [
            "masukkan password: asjdyadw\n",
            "password salah\n",
            "masukkan password: 123456\n",
            "pasword benar, selamat datang! \n"
          ]
        }
      ]
    }
  ]
}